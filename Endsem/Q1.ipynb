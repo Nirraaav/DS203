{
 "cells": [
  {
   "cell_type": "code",
   "execution_count": 1,
   "metadata": {},
   "outputs": [],
   "source": [
    "# OPEN,HIGH,LOW,CLOSE,TOTTRDQTY,TOTTRDVAL,TIMESTAMP\n",
    "import scipy\n",
    "import numpy as np\n",
    "import pandas as pd"
   ]
  },
  {
   "cell_type": "code",
   "execution_count": 2,
   "metadata": {},
   "outputs": [],
   "source": [
    "# open SOUTHBANK.csv\n",
    "df = pd.read_csv('SOUTHBANK.csv')"
   ]
  },
  {
   "cell_type": "code",
   "execution_count": 3,
   "metadata": {},
   "outputs": [
    {
     "name": "stdout",
     "output_type": "stream",
     "text": [
      "     OPEN    HIGH     LOW   CLOSE  TOTTRDQTY     TOTTRDVAL    TIMESTAMP\n",
      "0  207.50  213.30  205.40  212.10     701915  1.473843e+08  19-AUG-2010\n",
      "1  212.00  212.00  208.00  208.45     229254  4.798819e+07  20-AUG-2010\n",
      "2  209.90  210.00  204.00  204.80     269180  5.530275e+07  23-AUG-2010\n",
      "3  206.30  206.80  202.05  205.05     240741  4.936476e+07  24-AUG-2010\n",
      "4  205.95  205.95  199.00  201.10     242027  4.860458e+07  25-AUG-2010\n"
     ]
    }
   ],
   "source": [
    "print(df.head())"
   ]
  },
  {
   "cell_type": "code",
   "execution_count": 4,
   "metadata": {},
   "outputs": [
    {
     "data": {
      "text/plain": [
       "121    18.30\n",
       "120    18.35\n",
       "757    19.25\n",
       "756    19.30\n",
       "119    19.35\n",
       "752    19.45\n",
       "754    19.55\n",
       "117    19.60\n",
       "122    19.60\n",
       "753    19.60\n",
       "781    19.65\n",
       "751    19.70\n",
       "780    19.70\n",
       "828    19.70\n",
       "782    19.70\n",
       "118    19.75\n",
       "779    19.75\n",
       "755    19.75\n",
       "774    19.80\n",
       "775    19.80\n",
       "778    19.80\n",
       "864    19.80\n",
       "826    19.85\n",
       "776    19.85\n",
       "869    19.85\n",
       "114    19.85\n",
       "115    19.90\n",
       "859    19.90\n",
       "867    19.90\n",
       "825    19.90\n",
       "116    19.95\n",
       "865    19.95\n",
       "777    19.95\n",
       "257    19.95\n",
       "868    20.00\n",
       "861    20.00\n",
       "856    20.00\n",
       "870    20.00\n",
       "855    20.00\n",
       "860    20.00\n",
       "Name: CLOSE, dtype: float64"
      ]
     },
     "execution_count": 4,
     "metadata": {},
     "output_type": "execute_result"
    }
   ],
   "source": [
    "import pandas as pd\n",
    "import numpy as np\n",
    "from scipy.stats import norm\n",
    "\n",
    "# Load the dataset\n",
    "file_path = 'SOUTHBANK.csv'  # Update the path if necessary\n",
    "southbank_data = pd.read_csv(file_path)\n",
    "\n",
    "# Step 1: Extract the CLOSE price column and sort it\n",
    "close_prices = southbank_data['CLOSE'].sort_values()\n",
    "\n",
    "close_prices.head(40)"
   ]
  },
  {
   "cell_type": "code",
   "execution_count": 5,
   "metadata": {},
   "outputs": [
    {
     "data": {
      "text/plain": [
       "(np.float64(22.2), np.float64(25.95))"
      ]
     },
     "execution_count": 5,
     "metadata": {},
     "output_type": "execute_result"
    }
   ],
   "source": [
    "# Step 2: Calculate the median of the CLOSE prices\n",
    "median_close = close_prices.median()\n",
    "\n",
    "# Step 3: Identify the 25% observations on either side of the median\n",
    "lower_bound = np.percentile(close_prices, 25)  # 25th percentile\n",
    "upper_bound = np.percentile(close_prices, 75)  # 75th percentile\n",
    "\n",
    "# Step 4: Filter the CLOSE prices within this range\n",
    "sample_close_prices = close_prices[(close_prices >= lower_bound) & (close_prices <= upper_bound)]\n",
    "\n",
    "lower_bound, upper_bound"
   ]
  },
  {
   "cell_type": "code",
   "execution_count": 6,
   "metadata": {},
   "outputs": [
    {
     "name": "stdout",
     "output_type": "stream",
     "text": [
      "Mean of the sample: 23.86872\n",
      "Lower boundary of the 90% CI: 23.804728197025455\n",
      "Upper boundary of the 90% CI: 23.932711802974545\n"
     ]
    }
   ],
   "source": [
    "# Step 5: Calculate the sample mean\n",
    "sample_mean = sample_close_prices.mean()\n",
    "\n",
    "# Step 6: Calculate the standard error of the mean (SEM)\n",
    "sample_std = sample_close_prices.std()\n",
    "sample_size = len(sample_close_prices)\n",
    "sem = sample_std / np.sqrt(sample_size)\n",
    "\n",
    "# Step 7: Calculate the 90% Confidence Interval\n",
    "confidence_level = 0.90\n",
    "z_score = norm.ppf((1 + confidence_level) / 2)  # Z-value for 90% CI\n",
    "margin_of_error = z_score * sem\n",
    "\n",
    "ci_lower = sample_mean - margin_of_error\n",
    "ci_upper = sample_mean + margin_of_error\n",
    "\n",
    "# Print the results\n",
    "print(\"Mean of the sample:\", sample_mean)\n",
    "print(\"Lower boundary of the 90% CI:\", ci_lower)\n",
    "print(\"Upper boundary of the 90% CI:\", ci_upper)"
   ]
  },
  {
   "cell_type": "code",
   "execution_count": 7,
   "metadata": {},
   "outputs": [
    {
     "data": {
      "text/plain": [
       "(np.float64(23.86872),\n",
       " np.float64(23.804633053203798),\n",
       " np.float64(23.9328069467962))"
      ]
     },
     "execution_count": 7,
     "metadata": {},
     "output_type": "execute_result"
    }
   ],
   "source": [
    "from scipy.stats import sem, t\n",
    "\n",
    "# Calculate SEM\n",
    "sample_sem = sem(sample_close_prices)\n",
    "\n",
    "# Degrees of freedom\n",
    "df = len(sample_close_prices) - 1\n",
    "\n",
    "# Calculate the 90% confidence interval\n",
    "confidence_level = 0.90\n",
    "confidence_interval = t.interval(confidence_level, df, loc=sample_mean, scale=sample_sem)\n",
    "\n",
    "# Results\n",
    "mean_of_sample = sample_mean\n",
    "ci_lower = confidence_interval[0]\n",
    "ci_upper = confidence_interval[1]\n",
    "\n",
    "mean_of_sample, ci_lower, ci_upper"
   ]
  },
  {
   "cell_type": "markdown",
   "metadata": {},
   "source": [
    "Mean of the sample: 23.86872\n",
    "\n",
    "Lower boundary of the 90% CI: 23.804728197025455 \n",
    "\n",
    "Upper boundary of the 90% CI: 23.932711802974545"
   ]
  },
  {
   "cell_type": "markdown",
   "metadata": {},
   "source": []
  }
 ],
 "metadata": {
  "kernelspec": {
   "display_name": "Python 3",
   "language": "python",
   "name": "python3"
  },
  "language_info": {
   "codemirror_mode": {
    "name": "ipython",
    "version": 3
   },
   "file_extension": ".py",
   "mimetype": "text/x-python",
   "name": "python",
   "nbconvert_exporter": "python",
   "pygments_lexer": "ipython3",
   "version": "3.12.3"
  }
 },
 "nbformat": 4,
 "nbformat_minor": 2
}
